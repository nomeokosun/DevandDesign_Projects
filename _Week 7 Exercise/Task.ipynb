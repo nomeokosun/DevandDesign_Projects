{
 "cells": [
  {
   "cell_type": "code",
   "execution_count": null,
   "id": "dc22f15d",
   "metadata": {},
   "outputs": [],
   "source": [
    "import numpy as np\n",
    "import pandas as pd\n",
    "import csv\n",
    "import os\n",
    "import pprint\n",
    "\n"
   ]
  },
  {
   "cell_type": "code",
   "execution_count": null,
   "id": "0ff87006",
   "metadata": {},
   "outputs": [],
   "source": [
    "#1. Load the provided csv file into the pandas dataframe\n",
    "\n",
    "print(os.getcwd())\n",
    "\n",
    "filePath1 = os.path.join(os.getcwd(), '..' , '_WEEK 7 EXERCISE' , 'epl_player_data.csv') \n",
    "\n",
    "print('-----PLayers Dataframe------')\n",
    "player_df = pd.read_csv(filePath1)\n",
    "\n",
    "print('-----Team Dataframe------')\n",
    "team_df = pd.read_csv('../_WEEK 7 EXERCISE/epl_team_data.csv')\n",
    "\n",
    "print(player_df)\n",
    "print(team_df)\n"
   ]
  },
  {
   "cell_type": "code",
   "execution_count": null,
   "id": "da040cf6",
   "metadata": {},
   "outputs": [],
   "source": [
    "#2, Examine the data structure of both datasets (shape, columns, data types)\n",
    "\n",
    "dataStruc_player =  player_df.shape\n",
    "dataStruc_team = team_df.shape\n",
    "\n",
    "(rows , columns) = player_df.shape\n",
    "(rows , columns) = team_df.shape\n",
    "\n",
    "\n",
    "\n",
    "print(f'The data structure of players dataset is {dataStruc_player}')\n",
    "print(f'The data structure of teams dataset is {dataStruc_team}')\n",
    "\n",
    "print('\\n COLUMNS IN Player dataset')\n",
    "print( player_df.columns.tolist())\n",
    "print('\\n COLUMNS IN teams dataset')\n",
    "print( team_df.columns.tolist())\n",
    "print('\\n Datatypes in player dataset')\n",
    "pprint.pprint(player_df.dtypes)\n",
    "print('\\n Datatypes in teams dataset')\n",
    "pprint.pprint(team_df.dtypes)\n",
    "print('')\n",
    "\n",
    "print(f'The players dataset has {rows}rows and {columns}columns')\n",
    "print(f'The teams dataset has {rows} rows and {columns} columns')"
   ]
  },
  {
   "cell_type": "code",
   "execution_count": null,
   "id": "abc5710b",
   "metadata": {},
   "outputs": [],
   "source": [
    "#3. Check for and handle any missing values appropriately in both datasets\n",
    "print(\"Missing data in player dataset\")\n",
    "print(player_df.isnull().sum())\n",
    "print(\"\\n Missing data in team dataset\")\n",
    "print(team_df.isnull().sum())"
   ]
  },
  {
   "cell_type": "code",
   "execution_count": null,
   "id": "6c36984a",
   "metadata": {},
   "outputs": [],
   "source": [
    "#4.Perform basic data cleaning (rename columns, fix data types, etc.)\n",
    "\n",
    "print(\"rename column in player dataset\")\n",
    "player_df = player_df.rename(columns = {'position' : 'player_position'})\n",
    "print(player_df.columns.tolist())\n",
    "\n",
    "print()\n",
    "\n",
    "print(\"rename column in team dataset\")\n",
    "player_df = player_df.rename(columns = {'team_name' : 'name_of_team'})\n",
    "print(team_df.columns.tolist())\n",
    "\n"
   ]
  },
  {
   "cell_type": "code",
   "execution_count": null,
   "id": "c8af7aa6",
   "metadata": {},
   "outputs": [],
   "source": [
    "#5. Create appropriate relationships between the two datasets\n",
    "\n",
    "#at a glance the common key in both data sets is the column : team_data\n",
    "#using the merge\n",
    "\n",
    "merged_df = player_df.merge(team_df , on=\"team_name\" , how=\"inner\") \n",
    "\n",
    "print(merged_df)\n",
    "\n",
    "\n"
   ]
  },
  {
   "cell_type": "code",
   "execution_count": null,
   "id": "d0bb9868",
   "metadata": {},
   "outputs": [],
   "source": [
    "#6>Calculate summary statistics for the key numerical columns in both datasets, including disciplinary metrics\n",
    "\n",
    "print('-----Summary statistics for players dataset-----')\n",
    "print(player_df.describe)\n",
    "\n",
    "print('-----Summary statistics for team dataset-----')\n",
    "print(team_df.describe)\n"
   ]
  },
  {
   "cell_type": "markdown",
   "id": "c14804ec",
   "metadata": {},
   "source": [
    "PART 2\n",
    "1.Calculate the following for each team:\n",
    "\n",
    "a. Total points accumulated\n",
    "b.Average goals scored and conceded per match\n",
    "c.Goal difference\n",
    "d.Home vs. away performance comparison\n",
    "e.Total fouls committed and suffered\n",
    "f.Disciplinary record (yellow cards, red cards, match bans)"
   ]
  },
  {
   "cell_type": "code",
   "execution_count": null,
   "id": "d46c925b",
   "metadata": {},
   "outputs": [],
   "source": [
    "#a. Total points accumulated\n",
    "totalPointsAccumulated = team_df[\"points\"].sum()\n",
    "print(totalPointsAccumulated)"
   ]
  },
  {
   "cell_type": "code",
   "execution_count": 197,
   "id": "8dfd83cc",
   "metadata": {},
   "outputs": [
    {
     "name": "stdout",
     "output_type": "stream",
     "text": [
      "62.3\n",
      "goals_conceded    62.3\n",
      "dtype: float64\n",
      "1.6394736842105264\n"
     ]
    }
   ],
   "source": [
    "#b. b.Average goals scored and conceded per match\n",
    "totalMatches = team_df[[\"matches_played\"]].sum\n",
    "averageGoalsScored = team_df[\"goals_scored\"].mean()\n",
    "print(averageGoalsScored)\n",
    "\n",
    "averageGoalsConceded = team_df[[\"goals_conceded\"]].mean()\n",
    "print(averageGoalsConceded)\n",
    "\n",
    "\n",
    "averageGoalsConcededPerMatch = team_df[\"goals_conceded\"].sum() / team_df[\"matches_played\"].sum()\n",
    "print(averageGoalsConcededPerMatch)\n"
   ]
  },
  {
   "cell_type": "code",
   "execution_count": null,
   "id": "f945753c",
   "metadata": {},
   "outputs": [],
   "source": [
    "#c.Goal difference\n",
    "goalDifference =  team_df[[\"team_name\" , \"goal_difference\"]]\n",
    "print(goalDifference)"
   ]
  },
  {
   "cell_type": "code",
   "execution_count": null,
   "id": "393c95ee",
   "metadata": {},
   "outputs": [],
   "source": [
    "#d d.Home vs. away performance comparison\n",
    "homeCol = [col for col in team_df if 'home' in col]\n",
    "awayCol = [col for col in team_df if 'away' in col]\n",
    "\n",
    "comparePerformance = team_df.groupby(\"team_name\")[homeCol + awayCol].sum()\n",
    "print(comparePerformance)\n"
   ]
  },
  {
   "cell_type": "markdown",
   "id": "dbe834e8",
   "metadata": {},
   "source": [
    "So below im going to run a comparison metrics on the the home and away data "
   ]
  },
  {
   "cell_type": "code",
   "execution_count": null,
   "id": "b619a253",
   "metadata": {},
   "outputs": [],
   "source": [
    "#comparing home vs. away performance\n",
    "\n",
    "totalHomeWins = comparePerformance[[\"home_wins\"]].sum()\n",
    "totalAwayWins = comparePerformance[[\"away_wins\"]].sum()\n",
    "\n",
    "totalHomeDraws = comparePerformance[[\"home_draws\"]].sum()\n",
    "totalAwayDraws = comparePerformance[[\"away_draws\"]].sum()\n",
    "\n",
    "totalHomeGoalsScored = comparePerformance[[\"home_goals_scored\"]].sum()\n",
    "totalAwayGoalScored = comparePerformance[[\"away_goals_scored\"]].sum()\n",
    "\n",
    "totalHomeLosses = comparePerformance[[\"home_losses\"]].sum()\n",
    "totalAwayLosses = comparePerformance[[\"away_losses\"]].sum()\n",
    "\n",
    "totalHomeGoalsConceded = comparePerformance[[\"home_goals_conceded\"]].sum()\n",
    "totalAwayGoalsConceded = comparePerformance[[\"away_goals_conceded\"]].sum()\n",
    "print('=====ANALYZING THE HOME VS AWAY PERFORMANCE')\n",
    "print(f'Total home wins is {totalHomeWins.item()} and total away wins is {totalAwayWins.item()}\\n Total home draws is {totalHomeDraws.item()} ,total away draws is {totalAwayDraws.item()}\\n Total home goals scored is {totalHomeGoalsScored.item()} and total away goals scored is {totalAwayGoalScored.item()}\\n Total home losses is {totalHomeLosses.item()} and total away losses is {totalAwayLosses.item()}\\n Total home goals conceded is {totalHomeGoalsConceded.item()} and total away goals conceded is {totalAwayGoalsConceded.item()}')\n",
    "\n",
    "print()\n",
    "\n",
    "print('Hence we can conclude that the teams perform better when they are playing at home!')\n",
    "\n",
    " \n"
   ]
  },
  {
   "cell_type": "code",
   "execution_count": 187,
   "id": "a86c61bd",
   "metadata": {},
   "outputs": [
    {
     "name": "stdout",
     "output_type": "stream",
     "text": [
      "The total fould commited is 8382\n",
      "The total fouls suffered is 8507\n"
     ]
    }
   ],
   "source": [
    "totalfoulsCommitted = team_df[['fouls_committed']].sum()\n",
    "print(f'The total fould commited is {totalfoulsCommitted.item()}')\n",
    "\n",
    "totalFoulsSuffered = team_df[['fouls_suffered']].sum()\n",
    "print(f'The total fouls suffered is {totalFoulsSuffered.item()}')\n"
   ]
  }
 ],
 "metadata": {
  "kernelspec": {
   "display_name": "base",
   "language": "python",
   "name": "python3"
  },
  "language_info": {
   "codemirror_mode": {
    "name": "ipython",
    "version": 3
   },
   "file_extension": ".py",
   "mimetype": "text/x-python",
   "name": "python",
   "nbconvert_exporter": "python",
   "pygments_lexer": "ipython3",
   "version": "3.12.7"
  }
 },
 "nbformat": 4,
 "nbformat_minor": 5
}
